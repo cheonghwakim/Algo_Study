
{
 "cells": [
  {
   "cell_type": "markdown",
   "metadata": {},
   "source": [
    "https://programmers.co.kr/learn/courses/30/lessons/42579\n",
    "# 조건\n",
    "1. 속한 노래가 많이 재생된 장르를 먼저 수록합니다.\n",
    "2. 장르 내에서 많이 재생된 노래를 먼저 수록합니다.\n",
    "3. 장르 내에서 재생 횟수가 같은 노래 중에서는 고유 번호가 낮은 노래를 먼저 수록합니다.\n",
    "4. 장르 내에서 가장 많이 재생된 두 곡을 수록합니다. (두 곡 미만인 경우에는 한 곡만 수록)"
   ]
  },
  {
   "cell_type": "code",
   "execution_count": 2,
   "metadata": {},
   "outputs": [],
   "source": [
    "genres=['classic', 'pop', 'classic', 'classic', 'pop']\n",
    "plays=[500, 600, 150, 800, 2500,]\n",
    "returns=[4, 1, 3, 0]"
   ]
  },
  {
   "cell_type": "code",
   "execution_count": 9,
   "metadata": {},
   "outputs": [
    {
     "name": "stdout",
     "output_type": "stream",
     "text": [
      "[4, 1, 3, 0]\n"
     ]
    }
   ],
   "source": [
    "def solution(genres, plays):\n",
    "    d={}\n",
    "    ans=[]\n",
    "    # 어떤 장르가 가장 많이 재생됐는지?\n",
    "    for i in range(len(genres)):\n",
    "        d[genres[i]]=d.get(genres[i],0)+plays[i]\n",
    "    totPlays=[]\n",
    "    for k,v in d.items():\n",
    "        totPlays.append([k,v])    \n",
    "    # totPlays 저장형식 : [['pop', 3100], ['classic', 1450]]\n",
    "    totPlays=sorted(totPlays,key=lambda x:(-x[1]))\n",
    "    \n",
    "    # 각 장르 내에서 가장 많이 수록된 두 곡은?\n",
    "    while totPlays:\n",
    "        topGenre=totPlays[0][0]\n",
    "        totPlays.pop(0)\n",
    "        oneTwo=[]\n",
    "        for i in range(len(genres)):\n",
    "            if genres[i]==topGenre:\n",
    "                oneTwo.append([i,plays[i]])\n",
    "        # oneTwo 저장형식 : [[4,2500],[1,600]]\n",
    "        oneTwo=sorted(oneTwo,key=lambda x:(-x[1],x[0]))\n",
    "        \n",
    "        # 베스트앨범(ans)에 수록\n",
    "        ans.append(oneTwo[0][0])\n",
    "        if len(oneTwo)>1:\n",
    "            ans.append(oneTwo[1][0])\n",
    "    return ans\n",
    "\n",
    "if __name__==\"__main__\":\n",
    "    solution(genres,plays)"
   ]
  }
 ],
 "metadata": {
  "kernelspec": {
   "display_name": "Python 3",
   "language": "python",
   "name": "python3"
  },
  "language_info": {
   "codemirror_mode": {
    "name": "ipython",
    "version": 3
   },
   "file_extension": ".py",
   "mimetype": "text/x-python",
   "name": "python",
   "nbconvert_exporter": "python",
   "pygments_lexer": "ipython3",
   "version": "3.6.9"
  }
 },
 "nbformat": 4,
 "nbformat_minor": 2
}

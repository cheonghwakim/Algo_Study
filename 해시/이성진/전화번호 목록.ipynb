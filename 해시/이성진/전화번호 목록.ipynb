{
 "cells": [
  {
   "cell_type": "markdown",
   "metadata": {},
   "source": [
    "# 전화번호 목록\n",
    "https://www.acmicpc.net/problem/5052"
   ]
  },
  {
   "cell_type": "markdown",
   "metadata": {},
   "source": [
    "# 문제\n",
    "전화번호 목록이 주어진다. 이때, 이 목록이 일관성이 있는지 없는지를 구하는 프로그램을 작성하시오.\n",
    "\n",
    "전화번호 목록이 일관성을 유지하려면, 한 번호가 다른 번호의 접두어인 경우가 없어야 한다.\n",
    "\n",
    "예를 들어, 전화번호 목록이 아래와 같은 경우를 생각해보자\n",
    "\n",
    "긴급전화: 911\n",
    "상근: 97 625 999\n",
    "선영: 91 12 54 26\n",
    "\n",
    "이 경우에 선영이에게 전화를 걸 수 있는 방법이 없다. 전화기를 들고 선영이 번호의 처음 세 자리를 누르는 순간 바로 긴급전화가 걸리기 때문이다. 따라서, 이 목록은 일관성이 없는 목록이다. \n",
    "\n",
    "# 입력\n",
    "첫째 줄에 테스트 케이스의 개수 t가 주어진다. (1 ≤ t ≤ 50) 각 테스트 케이스의 첫째 줄에는 전화번호의 수 n이 주어진다. (1 ≤ n ≤ 10000) 다음 n개의 줄에는 목록에 포함되어 있는 전화번호가 하나씩 주어진다. 전화번호의 길이는 길어야 10자리이며, 목록에 있는 두 전화번호가 같은 경우는 없다.\n",
    "\n",
    "# 출력\n",
    "각 테스트 케이스에 대해서, 일관성 있는 목록인 경우에는 YES, 아닌 경우에는 NO를 출력한다."
   ]
  },
  {
   "cell_type": "markdown",
   "metadata": {},
   "source": [
    "### 샘플 데이터"
   ]
  },
  {
   "cell_type": "code",
   "execution_count": 133,
   "metadata": {},
   "outputs": [],
   "source": [
    "# 결과 : NO\n",
    "data=[911,97625999,91125426]\n",
    "\n",
    "# 결과 : YES\n",
    "#data=[113,12340,123440,12345,98346]"
   ]
  },
  {
   "cell_type": "markdown",
   "metadata": {},
   "source": [
    "### 풀이"
   ]
  },
  {
   "cell_type": "code",
   "execution_count": 135,
   "metadata": {},
   "outputs": [
    {
     "name": "stdout",
     "output_type": "stream",
     "text": [
      "NO\n"
     ]
    }
   ],
   "source": [
    "def answer(numbers):\n",
    "    for num in numbers:\n",
    "        tmp=''\n",
    "        for c in num:\n",
    "            tmp+=c\n",
    "            if (tmp in numbers) and tmp!=num:\n",
    "                print(\"NO\")\n",
    "                return\n",
    "    print(\"YES\")        \n",
    "\n",
    "if __name__==\"__main__\":\n",
    "    data=list(map(lambda x:str(x), data))\n",
    "    answer(data)"
   ]
  },
  {
   "cell_type": "markdown",
   "metadata": {},
   "source": [
    "문제를 이해한 후, 주어진 샘플데이터를 보면서 풀이방법을 생각해봤음\n",
    "\n",
    "샘플 데이터 : [911,97625999,91125426]\n",
    "\n",
    "91125426이 911을 접두어로 가짐으로 정답은 NO가 되는 케이스였음.\n",
    "\n",
    "따라서 91125426을 한 글자씩 빼내며 샘플데이터 안에 존재하는지 비교하면 된다고 생각함.<br>\n",
    "example <br>\n",
    "if 9 in [911,97625999,91125426]] :    정상 <br>\n",
    "if 91 in [911,97625999,91125426]] :  정상 <br>\n",
    "if 911 in [911,97625999,91125426]] : 접두어를 가지고 있으므로 비정상! 그러므로 return!<br>\n",
    "if 9112 in [911,97625999,91125426]] : 정상<br>\n",
    "if 91125 in [911,97625999,91125426]] : 정상<br>\n",
    "if 911254 in [911,97625999,91125426]] : 정상<br>\n",
    "if 9112542 in [911,97625999,91125426]] : 정상<br>\n",
    "if 91125426 in [911,97625999,91125426]] : 자기자신과 비교하므로 비정상. 따라서 if문에 추가적인 조건을 설정함\n",
    "\n",
    "- 주어진 샘플데이터를 한 글자씩 빼내며 비교하기 위해서는 str이 될 필요가 있었음. 그래서 lambda식을 사용함.\n",
    "\n"
   ]
  }
 ],
 "metadata": {
  "kernelspec": {
   "display_name": "Python 3",
   "language": "python",
   "name": "python3"
  },
  "language_info": {
   "codemirror_mode": {
    "name": "ipython",
    "version": 3
   },
   "file_extension": ".py",
   "mimetype": "text/x-python",
   "name": "python",
   "nbconvert_exporter": "python",
   "pygments_lexer": "ipython3",
   "version": "3.6.9"
  }
 },
 "nbformat": 4,
 "nbformat_minor": 2
}

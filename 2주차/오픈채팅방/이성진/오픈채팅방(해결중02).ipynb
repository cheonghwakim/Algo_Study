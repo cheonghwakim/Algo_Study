{
 "cells": [
  {
   "cell_type": "markdown",
   "metadata": {},
   "source": [
    "https://programmers.co.kr/learn/courses/30/lessons/42888<br>\n",
    "1. \"Leave\" 기록에 대한 alias를 설정하였음  >> 테스트 케이스들에서 성공함\n",
    "2. 효율성 테스트를 통과하지 못함."
   ]
  },
  {
   "cell_type": "code",
   "execution_count": 8,
   "metadata": {},
   "outputs": [],
   "source": [
    "record=[\"Enter uid1234 Muzi\",\n",
    "        \"Enter uid4567 Prodo\",\n",
    "        \"Leave uid1234\",\n",
    "        \"Enter uid1234 Prodo\",\n",
    "        \"Change uid4567 Ryan\"]\n",
    "#결과값=[\"Prodo님이 들어왔습니다.\", \"Ryan님이 들어왔습니다.\", \"Prodo님이 나갔습니다.\", \"Prodo님이 들어왔습니다.\"]"
   ]
  },
  {
   "cell_type": "code",
   "execution_count": 37,
   "metadata": {},
   "outputs": [
    {
     "name": "stdout",
     "output_type": "stream",
     "text": [
      "['Prodo님이 들어왔습니다.', 'Ryan님이 들어왔습니다.', 'Prodo님이 나갔습니다.', 'Prodo님이 들어왔습니다.']\n"
     ]
    }
   ],
   "source": [
    "def solution(record):\n",
    "    # record를 세 리스트(satus, id, alias)로 나누어 담기\n",
    "    # Leave의 경우 alias가 없으므로 NA로 처리함.\n",
    "    status=[]\n",
    "    user_id=[]\n",
    "    alias=[]\n",
    "    issue_idx=[]\n",
    "    for i in range(len(record)):\n",
    "        if record[i].split(' ')[0]=='Leave':\n",
    "            a,b=record[i].split(' ')\n",
    "            c='NA'\n",
    "            issue_idx.append(i)\n",
    "        else:\n",
    "            a,b,c=record[i].split(' ')\n",
    "        status.append(a)\n",
    "        user_id.append(b)\n",
    "        alias.append(c)\n",
    "        \n",
    "    # NA를 별칭(alias)로 수정\n",
    "    for idx in issue_idx:\n",
    "        for i in range(len(record)):\n",
    "            if idx<=i:\n",
    "                break\n",
    "            if user_id[i]==user_id[idx]:\n",
    "                alias[idx]=alias[i]\n",
    "                \n",
    "    # status가 Enter이나 Change를 만나면 해당 아이디의 이전 alias기록을 갱신한다.\n",
    "    for i in range(len(record)):\n",
    "        if status[i]=='Enter' or status[i]=='Change':\n",
    "            for j in range(len(record)):\n",
    "                if i<j:\n",
    "                    break\n",
    "                if user_id[i]==user_id[j]:\n",
    "                    alias[j]=alias[i]\n",
    "                 \n",
    "    # Enter과 Leave기록을 문자열과 함께 리스트에 담아 출력한다.(Change는 기록남지 않는다)\n",
    "    res=[]\n",
    "    for i in range(len(record)):\n",
    "        if status[i]=='Enter':\n",
    "            res.append(\"%s님이 들어왔습니다.\" % alias[i])\n",
    "        elif status[i]=='Leave':\n",
    "            res.append(\"%s님이 나갔습니다.\" % alias[i])\n",
    "    return res\n",
    "\n",
    "if __name__=='__main__':\n",
    "    print(solution(record))"
   ]
  }
 ],
 "metadata": {
  "kernelspec": {
   "display_name": "Python 3",
   "language": "python",
   "name": "python3"
  },
  "language_info": {
   "codemirror_mode": {
    "name": "ipython",
    "version": 3
   },
   "file_extension": ".py",
   "mimetype": "text/x-python",
   "name": "python",
   "nbconvert_exporter": "python",
   "pygments_lexer": "ipython3",
   "version": "3.8.3"
  }
 },
 "nbformat": 4,
 "nbformat_minor": 4
}

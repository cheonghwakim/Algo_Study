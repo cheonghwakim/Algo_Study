{
 "cells": [
  {
   "cell_type": "markdown",
   "metadata": {},
   "source": [
    "### TEST케이스만 통과하고 제출답안은 틀렸음.\n",
    "##### 문제에서 제시하는 순서를 정확히 이해하고 다시풀자! "
   ]
  },
  {
   "cell_type": "markdown",
   "metadata": {},
   "source": [
    "https://programmers.co.kr/learn/courses/30/lessons/60058"
   ]
  },
  {
   "cell_type": "code",
   "execution_count": 34,
   "metadata": {},
   "outputs": [],
   "source": [
    "p=\"(()())()\"  #result=(()())()\n",
    "#p=\")(\"        #result=()\n",
    "#p=\"()))((()\"  #result=()(())()"
   ]
  },
  {
   "cell_type": "code",
   "execution_count": 41,
   "metadata": {},
   "outputs": [
    {
     "name": "stdout",
     "output_type": "stream",
     "text": [
      "(()())()\n"
     ]
    }
   ],
   "source": [
    "# 입력받은 괄호들이 올바른 문자열인지 판별 \n",
    "def check(chars):\n",
    "    chars=list(chars)\n",
    "    q=[]\n",
    "    for char in chars:\n",
    "        if char=='(':\n",
    "            q.append(char)\n",
    "        elif len(q)!=0 and char==')':\n",
    "            q.pop()\n",
    "        else:\n",
    "            return False\n",
    "    if len(q)!=0:\n",
    "        return False\n",
    "    return True\n",
    "    \n",
    "def solution(p):\n",
    "    # 입력받은 값이 옳으면 출력, 틀리면 옳은 답으로 수정\n",
    "    if check(p)==True:\n",
    "        return p\n",
    "    else:\n",
    "        w=list(p)\n",
    "        # ()인 쌍을 u에 담는다. \"[(,),0,0,0,0,(,)]\" 형태\n",
    "        u=[0]*len(w)\n",
    "        for i in range(len(w)):\n",
    "            if i+1<len(w):\n",
    "                if w[i]=='(' and w[i+1]==')':\n",
    "                    u[i]='('\n",
    "                    u[i+1]=')'\n",
    "        # ()쌍이 아닌 값들의 인덱스를 저장한다.\n",
    "        idx=[]\n",
    "        for i in range(len(u)):\n",
    "            if u[i]==0:\n",
    "                idx.append(i)\n",
    "        # idx의 맨 앞은 (로, idx의 맨 뒤는 )로 u에 저장한다.\n",
    "        while idx:\n",
    "            u[idx.pop(0)]='('\n",
    "            u[idx.pop(-1)]=')'\n",
    "        # 출력형식에 맞춘다. ['(','(',')',')']에서 \"(())\"\n",
    "        answer=''\n",
    "        while u:\n",
    "            answer+=u.pop(0)\n",
    "    return answer\n",
    "\n",
    "if __name__==\"__main__\":\n",
    "    print(solution(p))"
   ]
  }
 ],
 "metadata": {
  "kernelspec": {
   "display_name": "Python 3",
   "language": "python",
   "name": "python3"
  },
  "language_info": {
   "codemirror_mode": {
    "name": "ipython",
    "version": 3
   },
   "file_extension": ".py",
   "mimetype": "text/x-python",
   "name": "python",
   "nbconvert_exporter": "python",
   "pygments_lexer": "ipython3",
   "version": "3.6.9"
  }
 },
 "nbformat": 4,
 "nbformat_minor": 2
}

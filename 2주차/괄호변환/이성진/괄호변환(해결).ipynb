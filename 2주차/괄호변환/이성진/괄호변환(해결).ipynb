{
 "cells": [
  {
   "cell_type": "markdown",
   "metadata": {},
   "source": [
    "\n",
    "https://programmers.co.kr/learn/courses/30/lessons/60058"
   ]
  },
  {
   "cell_type": "markdown",
   "metadata": {},
   "source": [
    "재귀함수를 만들어서 문제를 해결하자\n",
    "\n",
    "1. 입력이 빈 문자열인 경우, 빈 문자열을 반환합니다.<br><br>\n",
    "2. 문자열 w를 두 \"균형잡힌 괄호 문자열\" u, v로 분리합니다.<br>\n",
    "(단, u는 \"균형잡힌 괄호 문자열\"로 더 이상 분리할 수 없어야 하며, v는 빈 문자열이 될 수 있습니다.)<br><br>\n",
    "3. 문자열 u가 \"올바른 괄호 문자열\" 이라면 문자열 v에 대해 1단계부터 다시 수행합니다.<br>\n",
    "    3-1. 수행한 결과 문자열을 u에 이어 붙인 후 반환합니다.<br><br>\n",
    "4. 문자열 u가 \"올바른 괄호 문자열\"이 아니라면 아래 과정을 수행합니다.<br>\n",
    "    4-1. 빈 문자열에 첫 번째 문자로 '('를 붙입니다.<br>\n",
    "    4-2. 문자열 v에 대해 1단계부터 재귀적으로 수행한 결과 문자열을 이어 붙입니다.<br>\n",
    "    4-3. ')'를 다시 붙입니다.<br>\n",
    "    4-4. u의 첫 번째와 마지막 문자를 제거하고, 나머지 문자열의 괄호 방향을 뒤집어서 뒤에 붙입니다.<br>\n",
    "    4-5. 생성된 문자열을 반환합니다."
   ]
  },
  {
   "cell_type": "code",
   "execution_count": 143,
   "metadata": {},
   "outputs": [],
   "source": [
    "p=\"(()())()\"  #result=(()())()\n",
    "p=\")(\"        #result=()\n",
    "p=\"()))((()\"  #result=()(())()"
   ]
  },
  {
   "cell_type": "code",
   "execution_count": 145,
   "metadata": {},
   "outputs": [
    {
     "name": "stdout",
     "output_type": "stream",
     "text": [
      "(()())()\n"
     ]
    }
   ],
   "source": [
    "def solution(p):\n",
    "    word=''\n",
    "    u,v=division(p)\n",
    "    # 재귀함수 \n",
    "    def processor(u,v):\n",
    "        nonlocal word \n",
    "        if check(u)==True:\n",
    "            for a in u:\n",
    "                word+=a\n",
    "            if len(v)==0:\n",
    "                return\n",
    "            u,v=division(v)\n",
    "            processor(u,v)\n",
    "        else:\n",
    "            word+='('\n",
    "            tmp_u,tmp_v=division(v)\n",
    "            processor(tmp_u,tmp_v)\n",
    "            word+=')'\n",
    "            u.pop(0)\n",
    "            u.pop(-1)\n",
    "            for c in u:\n",
    "                if c=='(':\n",
    "                    word+=')'\n",
    "                else:\n",
    "                    word+='('\n",
    "        return word\n",
    "    processor(u,v)\n",
    "    return word\n",
    "\n",
    "# 각각의 \"올바른 문자열(u,v)\"로 나눈다. \n",
    "def division(chars):\n",
    "    chars=list(chars)\n",
    "    o=c=0\n",
    "    u=[]\n",
    "    v=[]\n",
    "    while chars:\n",
    "        if o>0 and o==c:\n",
    "            v=chars\n",
    "            break\n",
    " \n",
    "        char=chars.pop(0)\n",
    "        if char=='(':\n",
    "            o+=1\n",
    "        elif char==')':\n",
    "            c+=1\n",
    "        u.append(char)            \n",
    "    return u, v\n",
    "\n",
    "# 입력받은 괄호들이 올바른 문자열인지 판별 \n",
    "def check(chars):\n",
    "    chars=list(chars)\n",
    "    q=[]\n",
    "    for char in chars:\n",
    "        if char=='(':\n",
    "            q.append(char)\n",
    "        elif len(q)!=0 and char==')':\n",
    "            q.pop()\n",
    "        else:\n",
    "            return False\n",
    "    if len(q)!=0:\n",
    "        return False\n",
    "    return True\n",
    "\n",
    "if __name__==\"__main__\":\n",
    "    print(solution(p))"
   ]
  },
  {
   "cell_type": "code",
   "execution_count": null,
   "metadata": {},
   "outputs": [],
   "source": []
  }
 ],
 "metadata": {
  "kernelspec": {
   "display_name": "Python 3",
   "language": "python",
   "name": "python3"
  },
  "language_info": {
   "codemirror_mode": {
    "name": "ipython",
    "version": 3
   },
   "file_extension": ".py",
   "mimetype": "text/x-python",
   "name": "python",
   "nbconvert_exporter": "python",
   "pygments_lexer": "ipython3",
   "version": "3.6.9"
  }
 },
 "nbformat": 4,
 "nbformat_minor": 2
}

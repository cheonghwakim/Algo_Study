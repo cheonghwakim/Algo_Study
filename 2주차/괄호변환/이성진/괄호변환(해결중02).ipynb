{
 "cells": [
  {
   "cell_type": "markdown",
   "metadata": {},
   "source": [
    "아래 두 함수를 작성하고 문제에서 주어진 조건에 따라 수행했음<br>\n",
    "1. w를 u와 v로 나누는 함수를 작성\n",
    "2. 올바른 괄호문자열인지 확인하는 함수를 작성<br>\n",
    "\n",
    "이를 토대로 문제에 주어진 3,4번 조건을 만족시키려 했으나 답이 안나옴.\n",
    "문제에 잘못 접근하고 있는 느낌임. <br>(재귀함수를 사용해야 할 것 같은데.. 재귀함수 구조를 정확하게 이해한 것이 아니라 구조적으로 어떻게 설계해야 할지 모르겠음)\n",
    "#### 결론적으로 재귀함수를 사용해야 하는 것 같다."
   ]
  },
  {
   "cell_type": "markdown",
   "metadata": {},
   "source": [
    "재귀함수를 이용해서 u와 v가 나뉘어 출력되도록 하자"
   ]
  },
  {
   "cell_type": "markdown",
   "metadata": {},
   "source": [
    "1. 입력이 빈 문자열인 경우, 빈 문자열을 반환합니다. \n",
    "2. 문자열 w를 두 \"균형잡힌 괄호 문자열\" u, v로 분리합니다.<br>(단, u는 \"균형잡힌 괄호 문자열\"로 더 이상 분리할 수 없어야 하며, v는 빈 문자열이 될 수 있습니다.)\n",
    "3. 문자열 u가 \"올바른 괄호 문자열\" 이라면 문자열 v에 대해 1단계부터 다시 수행합니다. <br>\n",
    "  3-1. 수행한 결과 문자열을 u에 이어 붙인 후 반환합니다. \n",
    "4. 문자열 u가 \"올바른 괄호 문자열\"이 아니라면 아래 과정을 수행합니다.  <br>\n",
    "4-1. 빈 문자열에 첫 번째 문자로 '('를 붙입니다.  <br>\n",
    "4-2. 문자열 v에 대해 1단계부터 재귀적으로 수행한 결과 문자열을 이어 붙입니다.  <br>\n",
    "4-3. ')'를 다시 붙입니다.  <br>\n",
    "4-4. u의 첫 번째와 마지막 문자를 제거하고, 나머지 문자열의 괄호 방향을 뒤집어서 뒤에 붙입니다.  <br>\n",
    "4-5. 생성된 문자열을 반환합니다. <br>"
   ]
  },
  {
   "cell_type": "code",
   "execution_count": 58,
   "metadata": {},
   "outputs": [],
   "source": [
    "p=\"(()()))()\"  #result=(()())()\n",
    "#p=\")(\"        #result=()\n",
    "#p=\"()))((()\"  #result=()(())()\n",
    "#p=\"()\""
   ]
  },
  {
   "cell_type": "code",
   "execution_count": 60,
   "metadata": {},
   "outputs": [
    {
     "name": "stdout",
     "output_type": "stream",
     "text": [
      ") [')', '('] [')']\n"
     ]
    }
   ],
   "source": [
    "# 각각의 \"올바른 문자열(u,v)\"로 나눈다. \n",
    "def division(chars):\n",
    "    chars=list(chars)\n",
    "    o=c=0\n",
    "    u=[]\n",
    "    v=[]\n",
    "    while chars:\n",
    "        if o>0 and o==c:\n",
    "            v=chars\n",
    "            break\n",
    "        char=chars.pop(0)\n",
    "        if char=='(':\n",
    "            o+=1\n",
    "        elif char==')':\n",
    "            c+=1\n",
    "        u.append(char)            \n",
    "    return u, v\n",
    "\n",
    "# 입력받은 괄호들이 올바른 문자열인지 판별 \n",
    "def check(chars):\n",
    "    chars=list(chars)\n",
    "    q=[]\n",
    "    for char in chars:\n",
    "        if char=='(':\n",
    "            q.append(char)\n",
    "        elif len(q)!=0 and char==')':\n",
    "            q.pop()\n",
    "        else:\n",
    "            return False\n",
    "    if len(q)!=0:\n",
    "        return False\n",
    "    return True\n",
    "\n",
    "def solution(p):\n",
    "    u,v=division(p)\n",
    "    word=''\n",
    "    # u가 올바른 문자열이라면 word에 넣는다.\n",
    "    while check(u)==True:\n",
    "        for i in u:\n",
    "            word+=i\n",
    "        if len(v)==0:\n",
    "            break\n",
    "        u,v=division(v)\n",
    "    else:\n",
    "        word='('\n",
    "        # .... 작성중 ....\n",
    "        word=')'\n",
    "    print(word, u, v)  \n",
    "   # u,v=division(v)\n",
    "   # print(u,v)\n",
    "if __name__==\"__main__\":\n",
    "    solution(p)"
   ]
  },
  {
   "cell_type": "code",
   "execution_count": null,
   "metadata": {},
   "outputs": [],
   "source": []
  }
 ],
 "metadata": {
  "kernelspec": {
   "display_name": "Python 3",
   "language": "python",
   "name": "python3"
  },
  "language_info": {
   "codemirror_mode": {
    "name": "ipython",
    "version": 3
   },
   "file_extension": ".py",
   "mimetype": "text/x-python",
   "name": "python",
   "nbconvert_exporter": "python",
   "pygments_lexer": "ipython3",
   "version": "3.8.3"
  }
 },
 "nbformat": 4,
 "nbformat_minor": 4
}

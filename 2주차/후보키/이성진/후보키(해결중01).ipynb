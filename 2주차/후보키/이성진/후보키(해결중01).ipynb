{
 "cells": [
  {
   "cell_type": "markdown",
   "metadata": {},
   "source": [
    "DFS를 통해서 최소성을 만족하는 조합을 탐색했지만 반례가 존재함.<br>\n",
    "DFS는 낮은 숫자부터 높은 숫자로 탐색함 (EX) 1,12,123,23<br>\n",
    "DFS에 의하면 [0],[1,2],[2]와 같은 조합도 나올 수 있음. <br>\n",
    "하지만 이 경우에는 [2]가 이미 최소성을 만족하므로 [1,2]는 답에 해당하지 않음."
   ]
  },
  {
   "cell_type": "code",
   "execution_count": 246,
   "metadata": {},
   "outputs": [],
   "source": [
    "relation=[[\"100\",\"A\",\"D\"],\n",
    "          [\"200\",\"B\",\"E\"],\n",
    "          [\"300\",\"B\",\"F\"]]\n",
    "# 결과값 : 2"
   ]
  },
  {
   "cell_type": "code",
   "execution_count": 247,
   "metadata": {},
   "outputs": [
    {
     "name": "stdout",
     "output_type": "stream",
     "text": [
      "[0]\n",
      "[1, 2]\n",
      "[2]\n"
     ]
    }
   ],
   "source": [
    "def solution(relation):\n",
    "    # 넘겨받는 컬럼조합이 key로 사용가능한지 판별\n",
    "    def checker(keys):\n",
    "        num_tuple=len(relation)\n",
    "        tmp=[]\n",
    "        for i in range(num_tuple):\n",
    "            s=''\n",
    "            for key in keys:\n",
    "                s+=relation[i][key]\n",
    "            tmp.append(s)\n",
    "        if len(set(tmp))==num_tuple:\n",
    "            return True\n",
    "        else:\n",
    "            return False\n",
    "\n",
    "    # 가능한 모든 조합을 탐색\n",
    "    cnt=0\n",
    "    s=[]\n",
    "    def DFS(x):\n",
    "        nonlocal s\n",
    "        nonlocal cnt\n",
    "        # 최소성을 만족하면 탐색중단. 즉, (1,2)가 key로 인정되면 (1,2,3)을 탐색하지 않음.\n",
    "        if checker(s)==True:           \n",
    "            cnt+=1\n",
    "            print(s)\n",
    "            return \n",
    "        else:\n",
    "            for i in range(x,len(relation[0])):    \n",
    "                s.append(i)\n",
    "                DFS(i+1)  \n",
    "                s.pop(-1)\n",
    "    DFS(0)\n",
    "    return cnt\n",
    "\n",
    "if __name__=='__main__':\n",
    "    solution(relation)"
   ]
  },
  {
   "cell_type": "code",
   "execution_count": null,
   "metadata": {},
   "outputs": [],
   "source": []
  }
 ],
 "metadata": {
  "kernelspec": {
   "display_name": "Python 3",
   "language": "python",
   "name": "python3"
  },
  "language_info": {
   "codemirror_mode": {
    "name": "ipython",
    "version": 3
   },
   "file_extension": ".py",
   "mimetype": "text/x-python",
   "name": "python",
   "nbconvert_exporter": "python",
   "pygments_lexer": "ipython3",
   "version": "3.6.9"
  }
 },
 "nbformat": 4,
 "nbformat_minor": 2
}
